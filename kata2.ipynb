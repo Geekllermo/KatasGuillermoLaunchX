{
 "cells": [
  {
   "cell_type": "markdown",
   "metadata": {},
   "source": [
    "# Problema 1"
   ]
  },
  {
   "cell_type": "code",
   "execution_count": 6,
   "metadata": {},
   "outputs": [
    {
     "name": "stdout",
     "output_type": "stream",
     "text": [
      "Todo cool, el asteroide va a 20 km/s, no hay peligro\n"
     ]
    }
   ],
   "source": [
    "asteroide = 20\n",
    "if asteroide > 25:\n",
    "    print(\"¡Alerta! ¡Un asteroide se acerca a \" + (str(asteroide)) + \" km/s es una velocidad peligrosa\")\n",
    "else:\n",
    "    print (\"Todo cool, el asteroide va a \" + (str(asteroide)) + \" km/s, no hay peligro\")"
   ]
  },
  {
   "cell_type": "markdown",
   "metadata": {},
   "source": [
    "# Problema 2"
   ]
  },
  {
   "cell_type": "code",
   "execution_count": 12,
   "metadata": {},
   "outputs": [
    {
     "name": "stdout",
     "output_type": "stream",
     "text": [
      "Te lo perdiste, suerte a la proxima\n"
     ]
    }
   ],
   "source": [
    "asteroide = 19\n",
    "if asteroide > 20:\n",
    "    print(\"Mira! hay un asteroide en el cielo, pide un deseo\")\n",
    "elif asteroide == 20:\n",
    "    print(\"Mira! hay un asteroide en el cielo, pide un deseo\")\n",
    "else:\n",
    "    print(\"Te lo perdiste, suerte a la proxima\")"
   ]
  },
  {
   "cell_type": "markdown",
   "metadata": {},
   "source": [
    "# Problema 3"
   ]
  },
  {
   "cell_type": "code",
   "execution_count": 27,
   "metadata": {},
   "outputs": [
    {
     "name": "stdout",
     "output_type": "stream",
     "text": [
      "Mira! hay un asteroide en el cielo, pide un deseo\n"
     ]
    }
   ],
   "source": [
    "vel_asteroide = 40\n",
    "tam_asteroide = 25\n",
    "if vel_asteroide > 25 and tam_asteroide > 25:\n",
    "    print (\"Un asteroide de \" + (str(tam_asteroide)) + \" metros, se acerca a la tierra a una velocidad de \" + (str(vel_asteroide)) + \" km/s, peligro inminente!\")\n",
    "elif vel_asteroide >= 20:\n",
    "    print (\"Mira! hay un asteroide en el cielo, pide un deseo\")\n",
    "elif tam_asteroide < 25:\n",
    "    print(\"Te lo perdiste, suerte a la proxima\")\n",
    "else:\n",
    "    print(\"Te lo perdiste, suerte a la proxima\")"
   ]
  }
 ],
 "metadata": {
  "interpreter": {
   "hash": "aee8b7b246df8f9039afb4144a1f6fd8d2ca17a180786b69acc140d282b71a49"
  },
  "kernelspec": {
   "display_name": "Python 3.10.2 64-bit",
   "language": "python",
   "name": "python3"
  },
  "language_info": {
   "codemirror_mode": {
    "name": "ipython",
    "version": 3
   },
   "file_extension": ".py",
   "mimetype": "text/x-python",
   "name": "python",
   "nbconvert_exporter": "python",
   "pygments_lexer": "ipython3",
   "version": "3.10.2"
  },
  "orig_nbformat": 4
 },
 "nbformat": 4,
 "nbformat_minor": 2
}
