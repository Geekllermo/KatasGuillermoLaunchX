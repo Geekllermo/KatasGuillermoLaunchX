{
 "cells": [
  {
   "cell_type": "markdown",
   "metadata": {},
   "source": [
    "## Ejercicio 1"
   ]
  },
  {
   "cell_type": "code",
   "execution_count": 6,
   "metadata": {},
   "outputs": [
    {
     "name": "stdout",
     "output_type": "stream",
     "text": [
      "La distancia es de 628949330 Kms\n",
      "La distancia es de 390577533.93 Millas\n"
     ]
    }
   ],
   "source": [
    "Planeta1 = 149597870\n",
    "Planeta2 = 778547200\n",
    "\n",
    "distanciakm = Planeta2 - Planeta1\n",
    "print(\"La distancia es de \" + str(distanciakm) + \" Kms\")\n",
    "\n",
    "distanciamill = distanciakm * 0.621\n",
    "print(\"La distancia es de \" + str(distanciamill) + \" Millas\")"
   ]
  },
  {
   "cell_type": "markdown",
   "metadata": {},
   "source": [
    "## Ejercicio 2"
   ]
  },
  {
   "cell_type": "code",
   "execution_count": 9,
   "metadata": {},
   "outputs": [
    {
     "name": "stdout",
     "output_type": "stream",
     "text": [
      "La distancia es de 10 Kms\n",
      "La distancia es de 6.21 Millas\n"
     ]
    }
   ],
   "source": [
    "# Almacenar las entradas del usuario\n",
    "Planeta1 = input('Introduzca la distancia desde el sol para el primer planeta en KM')\n",
    "Planeta2 = input('Introduzca la distancia desde el sol para el segundo planeta en KM')\n",
    "\n",
    "Planeta1 = int(Planeta1)\n",
    "Planeta2 = int(Planeta2)\n",
    "\n",
    "distanciakm = Planeta2 - Planeta1\n",
    "print(\"La distancia es de \" + str(distanciakm) + \" Kms\")\n",
    "\n",
    "distanciamill = distanciakm * 0.621\n",
    "print(\"La distancia es de \" + str(abs(distanciamill)) + \" Millas\")"
   ]
  }
 ],
 "metadata": {
  "interpreter": {
   "hash": "aee8b7b246df8f9039afb4144a1f6fd8d2ca17a180786b69acc140d282b71a49"
  },
  "kernelspec": {
   "display_name": "Python 3.10.2 64-bit",
   "language": "python",
   "name": "python3"
  },
  "language_info": {
   "codemirror_mode": {
    "name": "ipython",
    "version": 3
   },
   "file_extension": ".py",
   "mimetype": "text/x-python",
   "name": "python",
   "nbconvert_exporter": "python",
   "pygments_lexer": "ipython3",
   "version": "3.10.2"
  },
  "orig_nbformat": 4
 },
 "nbformat": 4,
 "nbformat_minor": 2
}
